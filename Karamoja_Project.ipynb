{
  "nbformat": 4,
  "nbformat_minor": 0,
  "metadata": {
    "colab": {
      "provenance": [],
      "mount_file_id": "1cXGMvRJIvJ9qhFbgsd-B0pYi48YuX0hG",
      "authorship_tag": "ABX9TyN+jHtk953TcYs/6vGZuhNP",
      "include_colab_link": true
    },
    "kernelspec": {
      "name": "python3",
      "display_name": "Python 3"
    },
    "language_info": {
      "name": "python"
    }
  },
  "cells": [
    {
      "cell_type": "markdown",
      "metadata": {
        "id": "view-in-github",
        "colab_type": "text"
      },
      "source": [
        "<a href=\"https://colab.research.google.com/github/Kingoric/Karamoja-Project/blob/main/Karamoja_Project.ipynb\" target=\"_parent\"><img src=\"https://colab.research.google.com/assets/colab-badge.svg\" alt=\"Open In Colab\"/></a>"
      ]
    },
    {
      "cell_type": "markdown",
      "source": [
        "# Project Overview\n",
        "\n",
        "**Objective:**\n",
        "\n",
        "The objective of this project is to assess crop yields of maize and sorghum across various districts and subcounties in Uganda, with a focus on identifying key factors affecting agricultural productivity and providing actionable insights for stakeholders, including farmers, government agencies, and agricultural businesses."
      ],
      "metadata": {
        "id": "B4MN2exl3ELf"
      }
    },
    {
      "cell_type": "markdown",
      "source": [
        "**Data Overview:**\n",
        "\n",
        "For analysis, the following data sets are being used:\n",
        "\n",
        "1. Uganda_Subcounties: Contains geographic data and administrative boundaries of subcounties in Uganda.\n",
        "2. Uganda_Karamoja_Subcounty_Crop_Yield_Population: Includes crop yield data (maize and sorghum) and population information for subcounties in the Karamoja region.\n",
        "3. Uganda_Karamoja_District_Crop_Yield_Population: Provides similar data but aggregated at the district level within Karamoja.\n",
        "4. Uganda_Districts: Contains geographic data and administrative boundaries of districts in Uganda.\n",
        "5. Crop_Type_Map_Sorghum and Crop_Type_Map_Maize: These datasets focus on mapping the crop types to specific geographic regions and yield data."
      ],
      "metadata": {
        "id": "yzx2mB4x3wDq"
      }
    },
    {
      "cell_type": "markdown",
      "source": [
        "# Data Cleaning\n",
        "Data cleaninig needs to be done so as to handle missing values, to correct inconsistent data and remove duplicates."
      ],
      "metadata": {
        "id": "0GQ2MZ-M2fzz"
      }
    },
    {
      "cell_type": "code",
      "source": [
        "#import os to handle file paths\n",
        "import os"
      ],
      "metadata": {
        "id": "h19UQseAEXfE"
      },
      "execution_count": null,
      "outputs": []
    },
    {
      "cell_type": "markdown",
      "source": [
        "**Code for Loading and Cleaning Shape Files**\n",
        "\n",
        "\n"
      ],
      "metadata": {
        "id": "-cJU1pBJHzQN"
      }
    },
    {
      "cell_type": "markdown",
      "source": [
        "**Geopandas installation**\n",
        "\n",
        "Shapefiles can be loaded using the geopandas library. First, I will have geopandas installed:\n",
        "\n"
      ],
      "metadata": {
        "id": "ggYGNKaPIIwa"
      }
    },
    {
      "cell_type": "code",
      "source": [
        "!pip install geopandas\n"
      ],
      "metadata": {
        "colab": {
          "base_uri": "https://localhost:8080/"
        },
        "id": "rDTI4lk3EFpY",
        "outputId": "ff6a590d-11c9-4e87-b013-5ef2a552a16b"
      },
      "execution_count": null,
      "outputs": [
        {
          "output_type": "stream",
          "name": "stdout",
          "text": [
            "Requirement already satisfied: geopandas in /usr/local/lib/python3.10/dist-packages (0.14.4)\n",
            "Requirement already satisfied: fiona>=1.8.21 in /usr/local/lib/python3.10/dist-packages (from geopandas) (1.9.6)\n",
            "Requirement already satisfied: numpy>=1.22 in /usr/local/lib/python3.10/dist-packages (from geopandas) (1.26.4)\n",
            "Requirement already satisfied: packaging in /usr/local/lib/python3.10/dist-packages (from geopandas) (24.1)\n",
            "Requirement already satisfied: pandas>=1.4.0 in /usr/local/lib/python3.10/dist-packages (from geopandas) (2.1.4)\n",
            "Requirement already satisfied: pyproj>=3.3.0 in /usr/local/lib/python3.10/dist-packages (from geopandas) (3.6.1)\n",
            "Requirement already satisfied: shapely>=1.8.0 in /usr/local/lib/python3.10/dist-packages (from geopandas) (2.0.6)\n",
            "Requirement already satisfied: attrs>=19.2.0 in /usr/local/lib/python3.10/dist-packages (from fiona>=1.8.21->geopandas) (24.2.0)\n",
            "Requirement already satisfied: certifi in /usr/local/lib/python3.10/dist-packages (from fiona>=1.8.21->geopandas) (2024.7.4)\n",
            "Requirement already satisfied: click~=8.0 in /usr/local/lib/python3.10/dist-packages (from fiona>=1.8.21->geopandas) (8.1.7)\n",
            "Requirement already satisfied: click-plugins>=1.0 in /usr/local/lib/python3.10/dist-packages (from fiona>=1.8.21->geopandas) (1.1.1)\n",
            "Requirement already satisfied: cligj>=0.5 in /usr/local/lib/python3.10/dist-packages (from fiona>=1.8.21->geopandas) (0.7.2)\n",
            "Requirement already satisfied: six in /usr/local/lib/python3.10/dist-packages (from fiona>=1.8.21->geopandas) (1.16.0)\n",
            "Requirement already satisfied: python-dateutil>=2.8.2 in /usr/local/lib/python3.10/dist-packages (from pandas>=1.4.0->geopandas) (2.8.2)\n",
            "Requirement already satisfied: pytz>=2020.1 in /usr/local/lib/python3.10/dist-packages (from pandas>=1.4.0->geopandas) (2024.1)\n",
            "Requirement already satisfied: tzdata>=2022.1 in /usr/local/lib/python3.10/dist-packages (from pandas>=1.4.0->geopandas) (2024.1)\n"
          ]
        }
      ]
    },
    {
      "cell_type": "markdown",
      "source": [
        "Geopandas importation and file loading\n",
        "\n"
      ],
      "metadata": {
        "id": "8xrSHMFBIq-a"
      }
    },
    {
      "cell_type": "code",
      "source": [
        "import geopandas as gpd\n",
        "import os\n",
        "\n",
        "# Path to shapefiles\n",
        "shapefiles_folder_path = '/content/drive/MyDrive/DATA/DATA/SHAPEFILES'\n",
        "\n",
        "# List of shapefile names\n",
        "shapefiles = [\n",
        "    'Uganda_Subcounties.shp',\n",
        "    'Uganda_Districts.shp',\n",
        "    'Crop_Type_Map_Sorghum.shp',\n",
        "    'Crop_Type_Map_Maize.shp'\n",
        "]\n",
        "\n",
        "# Function to clean and save shapefile\n",
        "def clean_and_save_shapefile(filename):\n",
        "    shapefile_path = os.path.join(shapefiles_folder_path, filename)\n",
        "    gdf = gpd.read_file(shapefile_path)\n",
        "    gdf = gdf[gdf.is_valid]  # Remove invalid geometries\n",
        "    gdf = gdf.to_crs(epsg=4326)  # Convert to WGS84 (EPSG:4326)\n",
        "    cleaned_path = os.path.join(shapefiles_folder_path, f'cleaned_{filename}')\n",
        "    gdf.to_file(cleaned_path)\n",
        "    print(f\"Cleaned shapefile saved to {cleaned_path}\")\n",
        "\n",
        "# Clean and save each shapefile\n",
        "for shapefile in shapefiles:\n",
        "    clean_and_save_shapefile(shapefile)\n"
      ],
      "metadata": {
        "colab": {
          "base_uri": "https://localhost:8080/"
        },
        "id": "_SDnbt-RGvzl",
        "outputId": "a7b8f15d-fc40-46fc-f4fd-b9790fbf3f3f"
      },
      "execution_count": null,
      "outputs": [
        {
          "output_type": "stream",
          "name": "stdout",
          "text": [
            "Cleaned shapefile saved to /content/drive/MyDrive/DATA/DATA/SHAPEFILES/cleaned_Uganda_Subcounties.shp\n",
            "Cleaned shapefile saved to /content/drive/MyDrive/DATA/DATA/SHAPEFILES/cleaned_Uganda_Districts.shp\n",
            "Cleaned shapefile saved to /content/drive/MyDrive/DATA/DATA/SHAPEFILES/cleaned_Crop_Type_Map_Sorghum.shp\n",
            "Cleaned shapefile saved to /content/drive/MyDrive/DATA/DATA/SHAPEFILES/cleaned_Crop_Type_Map_Maize.shp\n"
          ]
        }
      ]
    },
    {
      "cell_type": "markdown",
      "source": [
        "**Loading tables**"
      ],
      "metadata": {
        "id": "UWYrwfXAJTas"
      }
    },
    {
      "cell_type": "code",
      "source": [
        "import pandas as pd\n",
        "\n",
        "# Path to tables folder\n",
        "tables_folder_path = '/content/drive/MyDrive/DATA/DATA/TABLES'\n",
        "\n",
        "# Load the CSV files\n",
        "subcounty_yield_population_csv = 'Uganda_Karamoja_Subcounty_Crop_Yield_Population.csv'\n",
        "district_yield_population_csv = 'Uganda_Karamoja_District_Crop_Yield_Population.csv'\n",
        "\n",
        "# Full paths\n",
        "subcounty_yield_population_path = os.path.join(tables_folder_path, subcounty_yield_population_csv)\n",
        "district_yield_population_path = os.path.join(tables_folder_path, district_yield_population_csv)\n",
        "\n",
        "# Load CSV files into DataFrames\n",
        "df_subcounty_yield_population = pd.read_csv(subcounty_yield_population_path)\n",
        "df_district_yield_population = pd.read_csv(district_yield_population_path)\n",
        "\n",
        "# Display first few rows of each DataFrame\n",
        "print(\"Uganda_Karamoja_Subcounty_Crop_Yield_Population\")\n",
        "print(df_subcounty_yield_population.head())\n",
        "\n",
        "print(\"\\nUganda_Karamoja_District_Crop_Yield_Population\")\n",
        "print(df_district_yield_population.head())\n",
        "\n",
        "# Data Cleaning\n",
        "\n",
        "# Remove any duplicate rows\n",
        "df_subcounty_yield_population = df_subcounty_yield_population.drop_duplicates()\n",
        "df_district_yield_population = df_district_yield_population.drop_duplicates()\n",
        "\n",
        "# Handle missing values by filling with a specific value (e.g., 0 for numeric columns)\n",
        "df_subcounty_yield_population = df_subcounty_yield_population.fillna(0)\n",
        "df_district_yield_population = df_district_yield_population.fillna(0)\n",
        "\n",
        "# Remove any rows with missing values\n",
        "df_subcounty_yield_population = df_subcounty_yield_population.dropna()\n",
        "df_district_yield_population = df_district_yield_population.dropna()\n",
        "\n",
        "\n",
        "# Save cleaned data\n",
        "cleaned_subcounty_yield_population_path = os.path.join(tables_folder_path, 'cleaned_Uganda_Karamoja_Subcounty_Crop_Yield_Population.csv')\n",
        "cleaned_district_yield_population_path = os.path.join(tables_folder_path, 'cleaned_Uganda_Karamoja_District_Crop_Yield_Population.csv')\n",
        "\n",
        "df_subcounty_yield_population.to_csv(cleaned_subcounty_yield_population_path, index=False)\n",
        "df_district_yield_population.to_csv(cleaned_district_yield_population_path, index=False)\n",
        "\n",
        "print(f\"\\nCleaned Uganda_Karamoja_Subcounty_Crop_Yield_Population CSV saved to {cleaned_subcounty_yield_population_path}\")\n",
        "print(f\"Cleaned Uganda_Karamoja_District_Crop_Yield_Population CSV saved to {cleaned_district_yield_population_path}\")\n"
      ],
      "metadata": {
        "colab": {
          "base_uri": "https://localhost:8080/"
        },
        "id": "PELWlO4kHX21",
        "outputId": "c06bdc96-80a1-457d-e104-5b27e45f42a2"
      },
      "execution_count": null,
      "outputs": [
        {
          "output_type": "stream",
          "name": "stdout",
          "text": [
            "Uganda_Karamoja_Subcounty_Crop_Yield_Population\n",
            "   OBJECTID       SUBCOUNTY_NAME DISTRICT_NAME    POP        Area Karamoja  \\\n",
            "0       263              KACHERI        KOTIDO  17244  1067176155        Y   \n",
            "1       264               KOTIDO        KOTIDO  52771   597575188        Y   \n",
            "2       265  KOTIDO TOWN COUNCIL        KOTIDO  27389    23972401        Y   \n",
            "3       266         NAKAPERIMORU        KOTIDO  38775   419111591        Y   \n",
            "4       267           PANYANGARA        KOTIDO  65704   880955930        Y   \n",
            "\n",
            "   S_Yield_Ha   M_Yield_Ha  Crop_Area_Ha     S_Area_Ha   M_Area_Ha  \\\n",
            "0  354.207411  1137.467019   7023.533691   6434.342449  528.124229   \n",
            "1  367.890523  1162.996687  13587.990760  12455.592640  824.767081   \n",
            "2  369.314177  1167.005832   1656.531855   1520.322052    8.561644   \n",
            "3  283.324569   852.366578   7087.823334   6761.488901   45.721712   \n",
            "4  373.836926  1283.859882  10398.249390  10111.198130  172.611914   \n",
            "\n",
            "     S_Prod_Tot     M_Prod_Tot  \n",
            "0  2.279092e+06  600723.892900  \n",
            "1  4.582294e+06  959201.382500  \n",
            "2  5.614765e+05    9991.488268  \n",
            "3  1.915696e+06   38971.659080  \n",
            "4  3.779939e+06  221609.511400  \n",
            "\n",
            "Uganda_Karamoja_District_Crop_Yield_Population\n",
            "   OBJECTID     NAME     POP        Area  S_Yield_Ha  M_Yield_Ha  \\\n",
            "0        92     ABIM   90385  2771977106         449        1040   \n",
            "1        96   AMUDAT  101790  1643582836         205        1297   \n",
            "2        20  KAABONG  627057  7373606003         279         945   \n",
            "3        85   KOTIDO  243157  3641539808         331        1148   \n",
            "4         5   MOROTO  127811  3570160948         128         355   \n",
            "\n",
            "   Crop_Area_Ha     S_Area_Ha    M_Area_Ha  S_Prod_Tot  M_Prod_Tot  \n",
            "0   5470.068394   3277.295971  1848.621855     1471506     1922567  \n",
            "1   5765.443719   2973.423860  2733.661014      609552     3545558  \n",
            "2  28121.672530  20544.194960  7394.416334     5731830     6987723  \n",
            "3  53032.649450  50247.443900  1751.372284    16631904     2010575  \n",
            "4   5954.814048   4741.748776  1190.050606      606944      422468  \n",
            "\n",
            "Cleaned Uganda_Karamoja_Subcounty_Crop_Yield_Population CSV saved to /content/drive/MyDrive/DATA/DATA/TABLES/cleaned_Uganda_Karamoja_Subcounty_Crop_Yield_Population.csv\n",
            "Cleaned Uganda_Karamoja_District_Crop_Yield_Population CSV saved to /content/drive/MyDrive/DATA/DATA/TABLES/cleaned_Uganda_Karamoja_District_Crop_Yield_Population.csv\n"
          ]
        }
      ]
    },
    {
      "cell_type": "markdown",
      "source": [
        "# Correlation Analysis\n",
        "\n",
        "Calculating correlation coefficients between maize yields and other variables like population, area, and sorghum yields to help understand if there is a statistical relationship between these variables."
      ],
      "metadata": {
        "id": "J3pd0hCdoDsx"
      }
    },
    {
      "cell_type": "code",
      "source": [
        "\n",
        "\n",
        "# Load your data\n",
        "df = pd.read_csv('/content/drive/MyDrive/DATA/DATA/TABLES/Uganda_Karamoja_Subcounty_Crop_Yield_Population.csv')\n",
        "\n",
        "# Calculate correlation\n",
        "correlations = df[['M_Yield_Ha', 'POP', 'Crop_Area_Ha', 'S_Yield_Ha']].corr()\n",
        "print(correlations)\n"
      ],
      "metadata": {
        "colab": {
          "base_uri": "https://localhost:8080/"
        },
        "id": "uN8ADwsxiNNU",
        "outputId": "70e1d2c2-0710-41d9-97e5-11d57f0a3a3c"
      },
      "execution_count": null,
      "outputs": [
        {
          "output_type": "stream",
          "name": "stdout",
          "text": [
            "              M_Yield_Ha       POP  Crop_Area_Ha  S_Yield_Ha\n",
            "M_Yield_Ha      1.000000  0.135996      0.263790    0.624494\n",
            "POP             0.135996  1.000000      0.392587   -0.081385\n",
            "Crop_Area_Ha    0.263790  0.392587      1.000000    0.171402\n",
            "S_Yield_Ha      0.624494 -0.081385      0.171402    1.000000\n"
          ]
        }
      ]
    },
    {
      "cell_type": "markdown",
      "source": [
        "\n",
        "**Insights**\n",
        "  1. Low Correlation with Population\n",
        "  2. Significant Correlation with Sorghum Yield\n",
        "  3. Moderate Correlation with Crop Area\n",
        "  \n",
        "**Recommendations**\n",
        "\n",
        "\n",
        "1.   Explore non-population factors affecting maize yields, such as soil quality or climate.\n",
        "\n",
        "2.   Improve agricultural practices in regions with high yields for both crops.\n",
        "\n",
        "3. Optimize crop area management to boost maize yields.\n",
        "\n"
      ],
      "metadata": {
        "id": "1FPxU8Lvot5L"
      }
    },
    {
      "cell_type": "code",
      "source": [
        "# Load your data\n",
        "df = pd.read_csv('/content/drive/MyDrive/DATA/DATA/TABLES/Uganda_Karamoja_District_Crop_Yield_Population.csv')\n",
        "\n",
        "# Calculate correlation\n",
        "correlations = df[['M_Yield_Ha', 'POP', 'Crop_Area_Ha', 'S_Yield_Ha']].corr()\n",
        "print(correlations)"
      ],
      "metadata": {
        "colab": {
          "base_uri": "https://localhost:8080/"
        },
        "id": "IENZiDPYnV4Z",
        "outputId": "ae80396a-30c9-4bfe-96ea-a8107851fd54"
      },
      "execution_count": null,
      "outputs": [
        {
          "output_type": "stream",
          "name": "stdout",
          "text": [
            "              M_Yield_Ha       POP  Crop_Area_Ha  S_Yield_Ha\n",
            "M_Yield_Ha      1.000000 -0.032883      0.300017    0.565185\n",
            "POP            -0.032883  1.000000      0.424930    0.024405\n",
            "Crop_Area_Ha    0.300017  0.424930      1.000000    0.206778\n",
            "S_Yield_Ha      0.565185  0.024405      0.206778    1.000000\n"
          ]
        }
      ]
    },
    {
      "cell_type": "markdown",
      "source": [
        "**Insights:**\n",
        "\n",
        "1. Low Correlation with Population:\n",
        "\n",
        "\n",
        "2. Significant Correlation with Sorghum Yield:\n",
        "\n",
        "3. Moderate Correlation with Crop Area:\n",
        "\n",
        "**Recommendations:**\n",
        "\n",
        "1. Investigate Non-Population Factors:\n",
        "\n",
        "2. Enhance Agricultural Practices:\n",
        "\n",
        "3. Optimize Crop Area Management:\n",
        "\n",
        "\n",
        "\n",
        "\n",
        "\n",
        "\n",
        "\n",
        "\n",
        "\n",
        "\n"
      ],
      "metadata": {
        "id": "vI7IpmZOpa79"
      }
    },
    {
      "cell_type": "markdown",
      "source": [
        "# Data Visualization using tableau\n",
        "For visualization using crosstabs, geographic maps, scatter plots, heatmaps etc, I used tableau.\n",
        "\n",
        "The link below will redirect you to the published project workbook:\n",
        "[link](https://public.tableau.com/views/projectworkbook_17251817703950/KaramojaCropYieldandFoodSecurityDashboard?:language=en-US&:sid=&:redirect=auth&:display_count=n&:origin=viz_share_link)"
      ],
      "metadata": {
        "id": "532bpweg56Fe"
      }
    }
  ]
}